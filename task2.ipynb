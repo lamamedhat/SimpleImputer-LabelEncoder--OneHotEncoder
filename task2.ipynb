{
 "cells": [
  {
   "cell_type": "markdown",
   "id": "8c1aedb7",
   "metadata": {},
   "source": [
    "# Handle Missing Data with Simple Imputer\n",
    "SimpleImputer is a scikit-learn class. It replaces the NaN values with a specified strategy.  "
   ]
  },
  {
   "cell_type": "code",
   "execution_count": 12,
   "id": "db34f2c5",
   "metadata": {},
   "outputs": [
    {
     "name": "stdout",
     "output_type": "stream",
     "text": [
      "Origional DataSet \n",
      "\n",
      "      1     2     3\n",
      "0  10.0  32.0   NaN\n",
      "1   NaN  11.0  20.0\n",
      "2  12.0   NaN  34.0\n",
      "\n",
      "Imputed DataSet \n",
      "\n",
      "[[10.  32.  27. ]\n",
      " [11.  11.  20. ]\n",
      " [12.  21.5 34. ]]\n"
     ]
    }
   ],
   "source": [
    "import pandas as pd\n",
    "\n",
    "data=pd.read_csv('C:\\\\Users\\\\SOFT\\\\Desktop\\\\Machine learning tasks\\\\data.csv')\n",
    "\n",
    "print('Origional DataSet \\n')\n",
    "\n",
    "print(f\"{data}\\n\")\n",
    "\n",
    "\n",
    "\n",
    "\n",
    "# import SimpleImputer class\n",
    "import numpy as np\n",
    "from sklearn.impute import SimpleImputer\n",
    "#  NaN means not a number\n",
    "# here he is learn how to know nan values and how to compute mean for it \n",
    "imputer = SimpleImputer(missing_values = np.nan , strategy ='mean')\n",
    "\n",
    "# fitting the data (means learning)\n",
    "imputer = imputer.fit(data)\n",
    " \n",
    "# Imputing the data    \n",
    "data = imputer.transform(data)\n",
    " \n",
    "\n",
    "print('Imputed DataSet \\n')\n",
    "\n",
    "print(data)\n",
    "\n",
    "\n",
    "\n",
    "\n"
   ]
  },
  {
   "cell_type": "markdown",
   "id": "02b56774",
   "metadata": {},
   "source": [
    "# Label Encoder\n",
    "Label Encoding refers to converting the labels into a numeric form so as to convert them into the machine-readable form .It is an important pre-processing step for the structured dataset in supervised learning."
   ]
  },
  {
   "cell_type": "code",
   "execution_count": 9,
   "id": "b3bb95a0",
   "metadata": {},
   "outputs": [
    {
     "name": "stdout",
     "output_type": "stream",
     "text": [
      "  country   age label\n",
      "0  france    20   yes\n",
      "1   german   25    no\n",
      "2    spain   30    no\n",
      "3    spain   12   yes\n",
      "4  france     8    no\n",
      "5   german   50   yes\n"
     ]
    }
   ],
   "source": [
    "import numpy as np\n",
    "import pandas as pd\n",
    "\n",
    "data=pd.read_csv('C:\\\\Users\\\\SOFT\\\\Desktop\\\\Machine learning tasks\\\\labelencoder dataset.csv')\n",
    "\n",
    "print(data)\n",
    "\n"
   ]
  },
  {
   "cell_type": "code",
   "execution_count": 10,
   "id": "dd4b5182",
   "metadata": {},
   "outputs": [
    {
     "data": {
      "text/plain": [
       "array([1, 0])"
      ]
     },
     "execution_count": 10,
     "metadata": {},
     "output_type": "execute_result"
    }
   ],
   "source": [
    "# Import label encoder\n",
    "from sklearn import preprocessing\n",
    "  \n",
    "# label_encoder object knows how to understand word labels.\n",
    "label_encoder = preprocessing.LabelEncoder()\n",
    "  \n",
    "# Encode labels in column 'label'.\n",
    "data['label']= label_encoder.fit_transform(data['label'])\n",
    "  \n",
    "data['label'].unique()\n",
    "\n",
    "\n"
   ]
  },
  {
   "cell_type": "code",
   "execution_count": 11,
   "id": "117dd359",
   "metadata": {},
   "outputs": [
    {
     "name": "stdout",
     "output_type": "stream",
     "text": [
      "  country   age  label\n",
      "0  france    20      1\n",
      "1   german   25      0\n",
      "2    spain   30      0\n",
      "3    spain   12      1\n",
      "4  france     8      0\n",
      "5   german   50      1\n"
     ]
    }
   ],
   "source": [
    "#  dataset after making label [0,1]\n",
    "print(data)"
   ]
  },
  {
   "cell_type": "markdown",
   "id": "b9bb1f58",
   "metadata": {},
   "source": [
    "# One-Hot Encoding\n",
    "The goal of one-hot encoding is to transform data from a categorical representation to a numeric representation.\n"
   ]
  },
  {
   "cell_type": "code",
   "execution_count": 5,
   "id": "e25b427d",
   "metadata": {},
   "outputs": [
    {
     "name": "stdout",
     "output_type": "stream",
     "text": [
      "  country\n",
      "0   Spain\n",
      "1   Spain\n",
      "2  German\n",
      "3  France\n",
      "4  German\n",
      "  (0, 2)\t1.0\n",
      "  (1, 2)\t1.0\n",
      "  (2, 1)\t1.0\n",
      "  (3, 0)\t1.0\n",
      "  (4, 1)\t1.0\n"
     ]
    }
   ],
   "source": [
    "# one hot encoder class takes an array of data\n",
    "\n",
    "from sklearn.preprocessing import OneHotEncoder\n",
    "\n",
    "import pandas as pd\n",
    "import numpy as np\n",
    "\n",
    "\n",
    "# one-hot encoder using data in type(dataframe)\n",
    "data = ['Spain','Spain','German','France','German']\n",
    "data_frame = pd.DataFrame(data, columns=['country'])\n",
    "print(data_frame)\n",
    "OHE=OneHotEncoder()\n",
    "F_T = OHE.fit_transform(data_frame[['country']])\n",
    "print(F_T) \n",
    "# the output of F_T means spain has index 2 \n",
    "# the German has index 1\n",
    "#  the france has index 0"
   ]
  },
  {
   "cell_type": "code",
   "execution_count": 60,
   "id": "36897d4c",
   "metadata": {},
   "outputs": [
    {
     "name": "stdout",
     "output_type": "stream",
     "text": [
      "<class 'pandas.core.frame.DataFrame'>\n"
     ]
    }
   ],
   "source": [
    "print(type(data_frame))"
   ]
  },
  {
   "cell_type": "code",
   "execution_count": 61,
   "id": "8aedc34c",
   "metadata": {},
   "outputs": [
    {
     "name": "stdout",
     "output_type": "stream",
     "text": [
      "     0    1    2\n",
      "0  0.0  0.0  1.0\n",
      "1  0.0  0.0  1.0\n",
      "2  0.0  1.0  0.0\n",
      "3  1.0  0.0  0.0\n",
      "4  0.0  1.0  0.0\n"
     ]
    }
   ],
   "source": [
    "from sklearn.compose import ColumnTransformer\n",
    "ct = ColumnTransformer([('one-hot-encoder', OneHotEncoder(), ['country'])], remainder='passthrough')\n",
    "fit_transform = ct.fit_transform(data_frame)\n",
    "Trans_data_frame = pd.DataFrame( fit_transform )\n",
    "print(Trans_data_frame)\n",
    "#  here he divie the countrys into 3 columns \n",
    "# spain has index 2 \n",
    "# the German has index 1\n",
    "# the france has index 0\n"
   ]
  }
 ],
 "metadata": {
  "kernelspec": {
   "display_name": "Python 3 (ipykernel)",
   "language": "python",
   "name": "python3"
  },
  "language_info": {
   "codemirror_mode": {
    "name": "ipython",
    "version": 3
   },
   "file_extension": ".py",
   "mimetype": "text/x-python",
   "name": "python",
   "nbconvert_exporter": "python",
   "pygments_lexer": "ipython3",
   "version": "3.9.12"
  }
 },
 "nbformat": 4,
 "nbformat_minor": 5
}
